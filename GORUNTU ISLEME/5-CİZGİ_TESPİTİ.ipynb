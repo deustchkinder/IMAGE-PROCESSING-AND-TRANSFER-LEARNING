{
  "nbformat": 4,
  "nbformat_minor": 0,
  "metadata": {
    "colab": {
      "provenance": []
    },
    "kernelspec": {
      "name": "python3",
      "display_name": "Python 3"
    },
    "language_info": {
      "name": "python"
    }
  },
  "cells": [
    {
      "cell_type": "code",
      "execution_count": null,
      "metadata": {
        "id": "rjAzgjau3l3f"
      },
      "outputs": [],
      "source": [
        "import numpy as np\n",
        "from pylab import *\n",
        "from PIL import Image"
      ]
    },
    {
      "cell_type": "code",
      "source": [
        "goruntu = array(Image.open('/content/Ak (50).png').convert(\"L\"))"
      ],
      "metadata": {
        "id": "TwV2n5274uv2"
      },
      "execution_count": null,
      "outputs": []
    },
    {
      "cell_type": "code",
      "source": [
        "def cizgi_tespiti(goruntu,T,kernel):\n",
        "  kernel_dizisi = []\n",
        "  goruntu_veri = zeros((len(goruntu),len(goruntu[0])))\n",
        "  for i in range(len(goruntu)):\n",
        "    for j in range(len(goruntu[0])):\n",
        "      if(i - 1 < 0 or i + 1 > len(goruntu)-1) or (\n",
        "         j - 1 < 0 or j + 1 > len(goruntu)-1):\n",
        "         goruntu_veri[i][j] = 0\n",
        "      else:\n",
        "        for k in range(3):\n",
        "          for m in range(3):\n",
        "            kernel_dizisi.append(goruntu[i - 1 + k] [j - 1 + m]* kernel[k,m])\n",
        "      piksel = abs(sum(array(kernel_dizisi)))\n",
        "      if piksel > T:\n",
        "        goruntu_veri[i][j] = 255\n",
        "      else:\n",
        "        goruntu_veri[i][j] = 0\n",
        "      kernel_dizisi = []\n",
        "  return goruntu_veri"
      ],
      "metadata": {
        "id": "MH06uNfo46FR"
      },
      "execution_count": null,
      "outputs": []
    },
    {
      "cell_type": "code",
      "source": [
        "def mak_cizgi_tespiti(yeni_yatay,yeni_45,yeni_dikey,yeni_45_eksi):\n",
        "  goruntu_veri = zeros((len(yeni_yatay),len(yeni_yatay[0])))\n",
        "  for i in range(len(yeni_yatay)):\n",
        "    for j in range(len(yeni_yatay[0])):\n",
        "      piksel = max(yeni_yatay[i][j],yeni_45[i][j],yeni_dikey[i][j],yeni_45_eksi[i][j])\n",
        "      goruntu_veri[i][j]=piksel\n",
        "  return goruntu_veri"
      ],
      "metadata": {
        "id": "4MXyvRjs7F5q"
      },
      "execution_count": null,
      "outputs": []
    },
    {
      "cell_type": "code",
      "source": [
        "T=0.4"
      ],
      "metadata": {
        "id": "L7Qn7v4u8nIs"
      },
      "execution_count": null,
      "outputs": []
    },
    {
      "cell_type": "code",
      "source": [
        "kernel_yatay = np.array([[-1,-1,-1],[2,2,2],[-1,-1,-1]])\n",
        "yeni_yatay = cizgi_tespiti(goruntu / 255, T, kernel_yatay)"
      ],
      "metadata": {
        "id": "YjwhSo1I8sLx"
      },
      "execution_count": null,
      "outputs": []
    },
    {
      "cell_type": "code",
      "source": [
        "kernel_45=np.array([[-1,-1,2],[-1,2,-1],[2,-1,-1]])\n",
        "yeni_45 =cizgi_tespiti(goruntu / 255, T, kernel_45)"
      ],
      "metadata": {
        "id": "xVsjBBPQ9AqM"
      },
      "execution_count": null,
      "outputs": []
    },
    {
      "cell_type": "code",
      "source": [
        "kernel_dikey=np.array([[-1,2,-1],[-1,2,-1],[-1,2,-1]])\n",
        "yeni_dikey =cizgi_tespiti(goruntu / 255, T, kernel_dikey)"
      ],
      "metadata": {
        "id": "9UPYDYM3CMbl"
      },
      "execution_count": null,
      "outputs": []
    },
    {
      "cell_type": "code",
      "source": [
        "kernel_45_eksi = np.array([[2,-1,-1],[-1,2,-1],[-1,-1,2]])\n",
        "yeni_45_eksi = cizgi_tespiti(goruntu / 255, T, kernel_45_eksi)"
      ],
      "metadata": {
        "id": "s9v24Wlo9cFW"
      },
      "execution_count": null,
      "outputs": []
    },
    {
      "cell_type": "code",
      "source": [
        "max_cizgi =mak_cizgi_tespiti(yeni_yatay,yeni_45,yeni_dikey,yeni_45_eksi)"
      ],
      "metadata": {
        "id": "RZb9yWyD-Ieh"
      },
      "execution_count": null,
      "outputs": []
    },
    {
      "cell_type": "code",
      "source": [
        "subplot(331)\n",
        "imshow(Image.fromarray(goruntu.astype('uint8')),cmap=\"gray\")\n",
        "xticks([])\n",
        "yticks([])"
      ],
      "metadata": {
        "colab": {
          "base_uri": "https://localhost:8080/",
          "height": 162
        },
        "id": "PPb4NGE3CrEl",
        "outputId": "b25fc39d-b0d4-4d0b-95fc-058913fe622e"
      },
      "execution_count": null,
      "outputs": [
        {
          "output_type": "execute_result",
          "data": {
            "text/plain": [
              "([], [])"
            ]
          },
          "metadata": {},
          "execution_count": 13
        },
        {
          "output_type": "display_data",
          "data": {
            "text/plain": [
              "<Figure size 640x480 with 1 Axes>"
            ],
            "image/png": "[encoded data removed]"
          },
          "metadata": {}
        }
      ]
    },
    {
      "cell_type": "code",
      "source": [
        "subplot(332)\n",
        "imshow(Image.fromarray(yeni_yatay.astype('uint8')),cmap=\"gray\")\n",
        "xticks([])\n",
        "yticks([])"
      ],
      "metadata": {
        "colab": {
          "base_uri": "https://localhost:8080/",
          "height": 162
        },
        "id": "CyBHvK2ODIoX",
        "outputId": "8bd73f14-fc69-4a61-ba14-d2f634e81b4e"
      },
      "execution_count": null,
      "outputs": [
        {
          "output_type": "execute_result",
          "data": {
            "text/plain": [
              "([], [])"
            ]
          },
          "metadata": {},
          "execution_count": 14
        },
        {
          "output_type": "display_data",
          "data": {
            "text/plain": [
              "<Figure size 640x480 with 1 Axes>"
            ],
            "image/png": "[encoded data removed]"
          },
          "metadata": {}
        }
      ]
    },
    {
      "cell_type": "code",
      "source": [
        "subplot(334)\n",
        "imshow(Image.fromarray(yeni_45.astype('uint8')),cmap=\"gray\")\n",
        "xticks([])\n",
        "yticks([])"
      ],
      "metadata": {
        "colab": {
          "base_uri": "https://localhost:8080/",
          "height": 162
        },
        "id": "TgFk4Ub0DJda",
        "outputId": "879750be-8ac3-4b53-f486-602d228ef2b0"
      },
      "execution_count": null,
      "outputs": [
        {
          "output_type": "execute_result",
          "data": {
            "text/plain": [
              "([], [])"
            ]
          },
          "metadata": {},
          "execution_count": 15
        },
        {
          "output_type": "display_data",
          "data": {
            "text/plain": [
              "<Figure size 640x480 with 1 Axes>"
            ],
            "image/png": "[encoded data removed]"
          },
          "metadata": {}
        }
      ]
    },
    {
      "cell_type": "code",
      "source": [
        "subplot(335)\n",
        "imshow(Image.fromarray(yeni_dikey.astype('uint8')),cmap=\"gray\")\n",
        "xticks([])\n",
        "yticks([])"
      ],
      "metadata": {
        "colab": {
          "base_uri": "https://localhost:8080/",
          "height": 162
        },
        "id": "AdKff0uvDMUC",
        "outputId": "89d3aa6c-e9cf-4d9c-a905-890a2432ed9f"
      },
      "execution_count": null,
      "outputs": [
        {
          "output_type": "execute_result",
          "data": {
            "text/plain": [
              "([], [])"
            ]
          },
          "metadata": {},
          "execution_count": 16
        },
        {
          "output_type": "display_data",
          "data": {
            "text/plain": [
              "<Figure size 640x480 with 1 Axes>"
            ],
            "image/png": "[encoded data removed]"
          },
          "metadata": {}
        }
      ]
    },
    {
      "cell_type": "code",
      "source": [
        "subplot(337)\n",
        "imshow(Image.fromarray(yeni_45_eksi.astype('uint8')),cmap=\"gray\")\n",
        "xticks([])\n",
        "yticks([])"
      ],
      "metadata": {
        "colab": {
          "base_uri": "https://localhost:8080/",
          "height": 162
        },
        "id": "ME3TmLZQDM40",
        "outputId": "efba8e58-6346-4aa0-e998-a5493cc46f42"
      },
      "execution_count": null,
      "outputs": [
        {
          "output_type": "execute_result",
          "data": {
            "text/plain": [
              "([], [])"
            ]
          },
          "metadata": {},
          "execution_count": 17
        },
        {
          "output_type": "display_data",
          "data": {
            "text/plain": [
              "<Figure size 640x480 with 1 Axes>"
            ],
            "image/png": "[encoded data removed]"
          },
          "metadata": {}
        }
      ]
    },
    {
      "cell_type": "code",
      "source": [
        "subplot(338)\n",
        "imshow(Image.fromarray(max_cizgi.astype('uint8')),cmap=\"gray\")\n",
        "xticks([])\n",
        "yticks([])"
      ],
      "metadata": {
        "colab": {
          "base_uri": "https://localhost:8080/",
          "height": 162
        },
        "id": "D6jwjN1pDSlx",
        "outputId": "a4b0f3f1-2329-4d93-b071-7adc199a73db"
      },
      "execution_count": null,
      "outputs": [
        {
          "output_type": "execute_result",
          "data": {
            "text/plain": [
              "([], [])"
            ]
          },
          "metadata": {},
          "execution_count": 18
        },
        {
          "output_type": "display_data",
          "data": {
            "text/plain": [
              "<Figure size 640x480 with 1 Axes>"
            ],
            "image/png": "[encoded data removed]"
          },
          "metadata": {}
        }
      ]
    }
  ]
}