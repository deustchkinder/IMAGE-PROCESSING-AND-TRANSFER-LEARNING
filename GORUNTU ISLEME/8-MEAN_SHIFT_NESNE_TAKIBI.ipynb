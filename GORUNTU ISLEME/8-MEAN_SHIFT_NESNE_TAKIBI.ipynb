{
  "nbformat": 4,
  "nbformat_minor": 0,
  "metadata": {
    "colab": {
      "provenance": []
    },
    "kernelspec": {
      "name": "python3",
      "display_name": "Python 3"
    },
    "language_info": {
      "name": "python"
    }
  },
  "cells": [
    {
      "cell_type": "code",
      "execution_count": null,
      "metadata": {
        "id": "d46clyLDsI5h"
      },
      "outputs": [],
      "source": [
        "import numpy as np\n",
        "import cv2"
      ]
    },
    {
      "cell_type": "code",
      "source": [
        "video = cv2.VideoCapture('/content/yaprak.mp4')\n",
        "_,frame = video.read()\n",
        "total = int(video.get(cv2.CAP_PROP_FRAME_COUNT))\n",
        "cv2.putText(frame,\"istenilen nesne belirleyin ve ESC tuşuna basın\",\n",
        "            (0,15,),cv2.FONT_HERSHEY_SIMPLEX,0.75,(0,255,0),2)"
      ],
      "metadata": {
        "id": "GWn5BNUW2ugr"
      },
      "execution_count": null,
      "outputs": []
    },
    {
      "cell_type": "code",
      "source": [
        "c,r,h,w = cv2.selectROI(frame,False)\n",
        "pencere = (c,r,h,w)\n",
        "roi = frame[r: r + h, c: c + w]"
      ],
      "metadata": {
        "id": "LSKyGgzv3XsR"
      },
      "execution_count": null,
      "outputs": []
    },
    {
      "cell_type": "code",
      "source": [
        "hsv_roi = cv2.cvtColor(frame,cv2.COLOR_BGR2HSV)\n",
        "mask = cv2.inRange(hsv_roi,np.array((0., 60., 32.)),\n",
        "                   np.array((180.,255.,255.)))"
      ],
      "metadata": {
        "id": "Ix6BE7eo34s_"
      },
      "execution_count": null,
      "outputs": []
    },
    {
      "cell_type": "code",
      "source": [
        "#Histogram Hesaplama ve Normalizasyon\n",
        "roi_hist = cv2.calcHist([hsv_roi],[0],mask,[256],[0,256])\n",
        "cv2.normalize(roi_hist,roi_hist,0,256,cv2.NORM_MINMAX)"
      ],
      "metadata": {
        "id": "J9XZj0BE4lIE"
      },
      "execution_count": null,
      "outputs": []
    },
    {
      "cell_type": "code",
      "source": [
        "term_crit = (cv2.TERM_CRITERIA_EPS |\n",
        "             cv2.TERM_CRITERIA_COUNT,10,1)"
      ],
      "metadata": {
        "id": "N1ckzY9U5Z8Y"
      },
      "execution_count": null,
      "outputs": []
    },
    {
      "cell_type": "code",
      "source": [
        "i = 1\n",
        "while True:\n",
        "  i+=1\n",
        "  ret,frame = video.read()\n",
        "  if ret == True:\n",
        "    hsv = cv2.cvtColor(frame,cv2.COLOR_BGR2HSV)\n",
        "    dst = cv2.calcBackProject([hsv],[0],roi_hist,[0,256],1)\n",
        "    ret,pencere = cv2.meanShift(dst,pencere,term_crit)\n",
        "    x,y,w,h = pencere\n",
        "    img2 = cv2.rectangle(frame,(x,y),(x + w,y + h),255,2)\n",
        "    cv2.imshow('/content/Ak (50).png',Ak (50))\n",
        "    if(cv2.waitKey(10) & 0xFF == ord('q') )or i == total :\n",
        "      break\n",
        "cv2.destroyAllWindows()\n",
        "video.release()"
      ],
      "metadata": {
        "id": "ybC9huN_5zcd"
      },
      "execution_count": null,
      "outputs": []
    }
  ]
}